{
 "cells": [
  {
   "cell_type": "markdown",
   "id": "8fd132d0",
   "metadata": {},
   "source": [
    "# LOGISTIC REGRESSION IMPLEMENATION ON MINIST AND IRIS DATASET "
   ]
  },
  {
   "cell_type": "markdown",
   "id": "f3af00d7",
   "metadata": {},
   "source": [
    "This code showcases the implementation of logistic regression on two datasets: Iris and MNIST.Confusion matrices are displayed using heatmaps.\n",
    "Metrics such as accuracy, precision, recall, and F1-score are printed for each label in the multiclass scenario.\n",
    "This code provides a comprehensive analysis of logistic regression performance on the given datasets, including various metrics and visualizations for a thorough understanding of the models"
   ]
  },
  {
   "cell_type": "markdown",
   "id": "9531b28a",
   "metadata": {},
   "source": [
    "# LOGISTIC REGRESSION ON IRIS DATASET"
   ]
  },
  {
   "cell_type": "code",
   "execution_count": 1,
   "id": "79862b05",
   "metadata": {},
   "outputs": [],
   "source": [
    "import pandas as pd\n",
    "import numpy as np\n",
    "import seaborn as sn\n",
    "import matplotlib.pyplot as plt\n",
    "import sklearn.model_selection as skm\n",
    "import sklearn.linear_model as sklm\n",
    "from sklearn.preprocessing import StandardScaler"
   ]
  },
  {
   "cell_type": "code",
   "execution_count": 2,
   "id": "ccdfaada",
   "metadata": {},
   "outputs": [],
   "source": [
    "data=pd.read_csv(\"Iris.csv\")\n",
    "x = data.drop(\"Species\",axis=1)\n",
    "y = data[\"Species\"]"
   ]
  },
  {
   "cell_type": "code",
   "execution_count": 3,
   "id": "99b1a7a8",
   "metadata": {},
   "outputs": [
    {
     "data": {
      "text/plain": [
       "((105, 5), (45, 5), (105,), (45,))"
      ]
     },
     "execution_count": 3,
     "metadata": {},
     "output_type": "execute_result"
    }
   ],
   "source": [
    "x_train,x_test,y_train,y_test = skm.train_test_split(x,y,test_size=0.3)\n",
    "x_train.shape, x_test.shape, y_train.shape,y_test.shape"
   ]
  },
  {
   "cell_type": "code",
   "execution_count": 4,
   "id": "498d30ce",
   "metadata": {},
   "outputs": [],
   "source": [
    "ssc = StandardScaler()\n",
    "x_train = ssc.fit_transform(x_train)\n",
    "x_test = ssc.transform(x_test)"
   ]
  },
  {
   "cell_type": "code",
   "execution_count": 5,
   "id": "50cec22f",
   "metadata": {},
   "outputs": [
    {
     "name": "stdout",
     "output_type": "stream",
     "text": [
      "THE SCORE OF THE LOGISTIC REGRESSION MODEL : 1.0\n"
     ]
    }
   ],
   "source": [
    "reg = sklm.LogisticRegression()\n",
    "reg.fit(x_train,y_train)\n",
    "print(f\"THE SCORE OF THE LOGISTIC REGRESSION MODEL :\",reg.score(x_test,y_test))"
   ]
  },
  {
   "cell_type": "code",
   "execution_count": 6,
   "id": "22d40a9c",
   "metadata": {},
   "outputs": [],
   "source": [
    "y_pred_reg= reg.predict(x_test)"
   ]
  },
  {
   "cell_type": "code",
   "execution_count": 7,
   "id": "f2796973",
   "metadata": {},
   "outputs": [
    {
     "name": "stdout",
     "output_type": "stream",
     "text": [
      "ACCURACY OF THE LOGISTIC REGRESSION MODEL : 100.0\n"
     ]
    }
   ],
   "source": [
    "a=(np.mean(y_pred_reg== np.array(y_test)))*100\n",
    "print(f\"ACCURACY OF THE LOGISTIC REGRESSION MODEL :\",a)"
   ]
  },
  {
   "cell_type": "code",
   "execution_count": 8,
   "id": "96cdb728",
   "metadata": {},
   "outputs": [
    {
     "data": {
      "text/html": [
       "<div>\n",
       "<style scoped>\n",
       "    .dataframe tbody tr th:only-of-type {\n",
       "        vertical-align: middle;\n",
       "    }\n",
       "\n",
       "    .dataframe tbody tr th {\n",
       "        vertical-align: top;\n",
       "    }\n",
       "\n",
       "    .dataframe thead th {\n",
       "        text-align: right;\n",
       "    }\n",
       "</style>\n",
       "<table border=\"1\" class=\"dataframe\">\n",
       "  <thead>\n",
       "    <tr style=\"text-align: right;\">\n",
       "      <th>Species</th>\n",
       "      <th>Iris-setosa</th>\n",
       "      <th>Iris-versicolor</th>\n",
       "      <th>Iris-virginica</th>\n",
       "    </tr>\n",
       "    <tr>\n",
       "      <th>row_0</th>\n",
       "      <th></th>\n",
       "      <th></th>\n",
       "      <th></th>\n",
       "    </tr>\n",
       "  </thead>\n",
       "  <tbody>\n",
       "    <tr>\n",
       "      <th>Iris-setosa</th>\n",
       "      <td>12</td>\n",
       "      <td>0</td>\n",
       "      <td>0</td>\n",
       "    </tr>\n",
       "    <tr>\n",
       "      <th>Iris-versicolor</th>\n",
       "      <td>0</td>\n",
       "      <td>12</td>\n",
       "      <td>0</td>\n",
       "    </tr>\n",
       "    <tr>\n",
       "      <th>Iris-virginica</th>\n",
       "      <td>0</td>\n",
       "      <td>0</td>\n",
       "      <td>21</td>\n",
       "    </tr>\n",
       "  </tbody>\n",
       "</table>\n",
       "</div>"
      ],
      "text/plain": [
       "Species          Iris-setosa  Iris-versicolor  Iris-virginica\n",
       "row_0                                                        \n",
       "Iris-setosa               12                0               0\n",
       "Iris-versicolor            0               12               0\n",
       "Iris-virginica             0                0              21"
      ]
     },
     "execution_count": 8,
     "metadata": {},
     "output_type": "execute_result"
    }
   ],
   "source": [
    "c=pd.crosstab(y_pred_reg,y_test)\n",
    "c"
   ]
  },
  {
   "cell_type": "code",
   "execution_count": 9,
   "id": "e73f2e9c",
   "metadata": {},
   "outputs": [
    {
     "data": {
      "text/plain": [
       "[Text(0.5, 28.5, 'ACTUAL VALUES'),\n",
       " Text(28.5, 0.5, 'PREDICTED VALUES '),\n",
       " Text(0.5, 1.0, 'CONFUSION MATRIX')]"
      ]
     },
     "execution_count": 9,
     "metadata": {},
     "output_type": "execute_result"
    },
    {
     "data": {
      "image/png": "[encoded data removed]",
      "text/plain": [
       "<Figure size 396x396 with 2 Axes>"
      ]
     },
     "metadata": {
      "needs_background": "light"
     },
     "output_type": "display_data"
    }
   ],
   "source": [
    "fig=plt.figure(figsize=(5.5,5.5))\n",
    "a=sn.heatmap(c,annot=True,cmap='Blues')\n",
    "a.set(xlabel =\"ACTUAL VALUES\", ylabel = \"PREDICTED VALUES \", title ='CONFUSION MATRIX')"
   ]
  },
  {
   "cell_type": "code",
   "execution_count": 10,
   "id": "94165eab",
   "metadata": {},
   "outputs": [
    {
     "name": "stdout",
     "output_type": "stream",
     "text": [
      "LABEL: Iris-setosa Accuracy: 1.0 Precision: 1.0 Recall 1.0 F1_Score 1.0\n",
      "LABEL: Iris-versicolor Accuracy: 1.0 Precision: 1.0 Recall 1.0 F1_Score 1.0\n",
      "LABEL: Iris-virginica Accuracy: 1.0 Precision: 1.0 Recall 1.0 F1_Score 1.0\n"
     ]
    }
   ],
   "source": [
    "for i in range(c.shape[0]):\n",
    "    TP=c.iloc[i,i]\n",
    "    FP=c.iloc[i,:].sum()-TP\n",
    "    FN=c.iloc[:,i].sum()-TP\n",
    "    TN=c.sum().sum()-TP-FP-FN\n",
    "    Accuracy=(TP+TN)/c.sum().sum()\n",
    "    Precision=TP/(TP+FP)\n",
    "    Recall=TP/(TP+FN)\n",
    "    F1_Score=(2*Precision*Recall)/(Precision+Recall)\n",
    "    print(f\"LABEL:\",c.index[i],f\"Accuracy:\",Accuracy,f\"Precision:\",Precision,f\"Recall\",Recall,f\"F1_Score\",F1_Score)"
   ]
  },
  {
   "cell_type": "markdown",
   "id": "60b07de8",
   "metadata": {},
   "source": [
    "# LOGISTIC REGRESSION ON MNIST DATASET"
   ]
  },
  {
   "cell_type": "code",
   "execution_count": 11,
   "id": "6fc3b282",
   "metadata": {},
   "outputs": [],
   "source": [
    "df=pd.read_csv(\"mnist_train.csv\")\n",
    "dt= pd.read_csv(\"mnist_test.csv\")\n",
    "x1_train=df.drop(\"label\",axis=1)\n",
    "y1_train=df[\"label\"]\n",
    "x1_test=dt.drop(\"label\",axis=1)\n",
    "y1_test=dt[\"label\"]"
   ]
  },
  {
   "cell_type": "code",
   "execution_count": 12,
   "id": "0d61578e",
   "metadata": {},
   "outputs": [
    {
     "data": {
      "text/plain": [
       "((60000, 784), (10000, 784), (60000,), (10000,))"
      ]
     },
     "execution_count": 12,
     "metadata": {},
     "output_type": "execute_result"
    }
   ],
   "source": [
    "x1_train.shape, x1_test.shape, y1_train.shape,y1_test.shape"
   ]
  },
  {
   "cell_type": "code",
   "execution_count": 13,
   "id": "c42e350d",
   "metadata": {},
   "outputs": [],
   "source": [
    "ssc1 = StandardScaler()\n",
    "x1_train = ssc1.fit_transform(x1_train)\n",
    "x1_test = ssc1.transform(x1_test)"
   ]
  },
  {
   "cell_type": "code",
   "execution_count": 14,
   "id": "29c62e76",
   "metadata": {},
   "outputs": [
    {
     "name": "stdout",
     "output_type": "stream",
     "text": [
      "THE SCORE OF THE LOGISTIC REGRESSION MODEL : 0.9246\n"
     ]
    },
    {
     "name": "stderr",
     "output_type": "stream",
     "text": [
      "C:\\Users\\najaf\\anaconda3\\lib\\site-packages\\sklearn\\linear_model\\_logistic.py:814: ConvergenceWarning: lbfgs failed to converge (status=1):\n",
      "STOP: TOTAL NO. of ITERATIONS REACHED LIMIT.\n",
      "\n",
      "Increase the number of iterations (max_iter) or scale the data as shown in:\n",
      "    https://scikit-learn.org/stable/modules/preprocessing.html\n",
      "Please also refer to the documentation for alternative solver options:\n",
      "    https://scikit-learn.org/stable/modules/linear_model.html#logistic-regression\n",
      "  n_iter_i = _check_optimize_result(\n"
     ]
    }
   ],
   "source": [
    "regr = sklm.LogisticRegression()\n",
    "regr.fit(x1_train,y1_train)\n",
    "print(f\"THE SCORE OF THE LOGISTIC REGRESSION MODEL :\",regr.score(x1_test,y1_test))"
   ]
  },
  {
   "cell_type": "code",
   "execution_count": 15,
   "id": "04019e45",
   "metadata": {},
   "outputs": [],
   "source": [
    "y1_pred_reg= regr.predict(x1_test)"
   ]
  },
  {
   "cell_type": "code",
   "execution_count": 16,
   "id": "1c578937",
   "metadata": {},
   "outputs": [
    {
     "name": "stdout",
     "output_type": "stream",
     "text": [
      "ACCURACY OF THE LOGISTIC REGRESSION MODEL : 92.46\n"
     ]
    }
   ],
   "source": [
    "a1=(np.mean(y1_pred_reg== np.array(y1_test)))*100\n",
    "print(f\"ACCURACY OF THE LOGISTIC REGRESSION MODEL :\",a1)"
   ]
  },
  {
   "cell_type": "code",
   "execution_count": 17,
   "id": "a4f9a34c",
   "metadata": {},
   "outputs": [
    {
     "data": {
      "text/html": [
       "<div>\n",
       "<style scoped>\n",
       "    .dataframe tbody tr th:only-of-type {\n",
       "        vertical-align: middle;\n",
       "    }\n",
       "\n",
       "    .dataframe tbody tr th {\n",
       "        vertical-align: top;\n",
       "    }\n",
       "\n",
       "    .dataframe thead th {\n",
       "        text-align: right;\n",
       "    }\n",
       "</style>\n",
       "<table border=\"1\" class=\"dataframe\">\n",
       "  <thead>\n",
       "    <tr style=\"text-align: right;\">\n",
       "      <th>label</th>\n",
       "      <th>0</th>\n",
       "      <th>1</th>\n",
       "      <th>2</th>\n",
       "      <th>3</th>\n",
       "      <th>4</th>\n",
       "      <th>5</th>\n",
       "      <th>6</th>\n",
       "      <th>7</th>\n",
       "      <th>8</th>\n",
       "      <th>9</th>\n",
       "    </tr>\n",
       "    <tr>\n",
       "      <th>row_0</th>\n",
       "      <th></th>\n",
       "      <th></th>\n",
       "      <th></th>\n",
       "      <th></th>\n",
       "      <th></th>\n",
       "      <th></th>\n",
       "      <th></th>\n",
       "      <th></th>\n",
       "      <th></th>\n",
       "      <th></th>\n",
       "    </tr>\n",
       "  </thead>\n",
       "  <tbody>\n",
       "    <tr>\n",
       "      <th>0</th>\n",
       "      <td>953</td>\n",
       "      <td>0</td>\n",
       "      <td>10</td>\n",
       "      <td>3</td>\n",
       "      <td>1</td>\n",
       "      <td>9</td>\n",
       "      <td>8</td>\n",
       "      <td>2</td>\n",
       "      <td>9</td>\n",
       "      <td>6</td>\n",
       "    </tr>\n",
       "    <tr>\n",
       "      <th>1</th>\n",
       "      <td>0</td>\n",
       "      <td>1111</td>\n",
       "      <td>11</td>\n",
       "      <td>1</td>\n",
       "      <td>3</td>\n",
       "      <td>6</td>\n",
       "      <td>4</td>\n",
       "      <td>9</td>\n",
       "      <td>10</td>\n",
       "      <td>7</td>\n",
       "    </tr>\n",
       "    <tr>\n",
       "      <th>2</th>\n",
       "      <td>2</td>\n",
       "      <td>6</td>\n",
       "      <td>918</td>\n",
       "      <td>19</td>\n",
       "      <td>9</td>\n",
       "      <td>3</td>\n",
       "      <td>7</td>\n",
       "      <td>22</td>\n",
       "      <td>4</td>\n",
       "      <td>3</td>\n",
       "    </tr>\n",
       "    <tr>\n",
       "      <th>3</th>\n",
       "      <td>2</td>\n",
       "      <td>2</td>\n",
       "      <td>19</td>\n",
       "      <td>925</td>\n",
       "      <td>2</td>\n",
       "      <td>32</td>\n",
       "      <td>4</td>\n",
       "      <td>7</td>\n",
       "      <td>23</td>\n",
       "      <td>8</td>\n",
       "    </tr>\n",
       "    <tr>\n",
       "      <th>4</th>\n",
       "      <td>2</td>\n",
       "      <td>0</td>\n",
       "      <td>10</td>\n",
       "      <td>3</td>\n",
       "      <td>914</td>\n",
       "      <td>9</td>\n",
       "      <td>4</td>\n",
       "      <td>5</td>\n",
       "      <td>7</td>\n",
       "      <td>19</td>\n",
       "    </tr>\n",
       "    <tr>\n",
       "      <th>5</th>\n",
       "      <td>11</td>\n",
       "      <td>1</td>\n",
       "      <td>5</td>\n",
       "      <td>22</td>\n",
       "      <td>1</td>\n",
       "      <td>776</td>\n",
       "      <td>16</td>\n",
       "      <td>2</td>\n",
       "      <td>24</td>\n",
       "      <td>7</td>\n",
       "    </tr>\n",
       "    <tr>\n",
       "      <th>6</th>\n",
       "      <td>6</td>\n",
       "      <td>3</td>\n",
       "      <td>12</td>\n",
       "      <td>2</td>\n",
       "      <td>8</td>\n",
       "      <td>14</td>\n",
       "      <td>911</td>\n",
       "      <td>0</td>\n",
       "      <td>8</td>\n",
       "      <td>0</td>\n",
       "    </tr>\n",
       "    <tr>\n",
       "      <th>7</th>\n",
       "      <td>2</td>\n",
       "      <td>1</td>\n",
       "      <td>8</td>\n",
       "      <td>10</td>\n",
       "      <td>6</td>\n",
       "      <td>8</td>\n",
       "      <td>1</td>\n",
       "      <td>947</td>\n",
       "      <td>11</td>\n",
       "      <td>24</td>\n",
       "    </tr>\n",
       "    <tr>\n",
       "      <th>8</th>\n",
       "      <td>2</td>\n",
       "      <td>11</td>\n",
       "      <td>35</td>\n",
       "      <td>18</td>\n",
       "      <td>7</td>\n",
       "      <td>31</td>\n",
       "      <td>3</td>\n",
       "      <td>3</td>\n",
       "      <td>865</td>\n",
       "      <td>9</td>\n",
       "    </tr>\n",
       "    <tr>\n",
       "      <th>9</th>\n",
       "      <td>0</td>\n",
       "      <td>0</td>\n",
       "      <td>4</td>\n",
       "      <td>7</td>\n",
       "      <td>31</td>\n",
       "      <td>4</td>\n",
       "      <td>0</td>\n",
       "      <td>31</td>\n",
       "      <td>13</td>\n",
       "      <td>926</td>\n",
       "    </tr>\n",
       "  </tbody>\n",
       "</table>\n",
       "</div>"
      ],
      "text/plain": [
       "label    0     1    2    3    4    5    6    7    8    9\n",
       "row_0                                                   \n",
       "0      953     0   10    3    1    9    8    2    9    6\n",
       "1        0  1111   11    1    3    6    4    9   10    7\n",
       "2        2     6  918   19    9    3    7   22    4    3\n",
       "3        2     2   19  925    2   32    4    7   23    8\n",
       "4        2     0   10    3  914    9    4    5    7   19\n",
       "5       11     1    5   22    1  776   16    2   24    7\n",
       "6        6     3   12    2    8   14  911    0    8    0\n",
       "7        2     1    8   10    6    8    1  947   11   24\n",
       "8        2    11   35   18    7   31    3    3  865    9\n",
       "9        0     0    4    7   31    4    0   31   13  926"
      ]
     },
     "execution_count": 17,
     "metadata": {},
     "output_type": "execute_result"
    }
   ],
   "source": [
    "c1=pd.crosstab(y1_pred_reg,y1_test)\n",
    "c1"
   ]
  },
  {
   "cell_type": "code",
   "execution_count": 18,
   "id": "541f7528",
   "metadata": {},
   "outputs": [
    {
     "data": {
      "text/plain": [
       "[Text(0.5, 163.5, 'ACTUAL VALUES'),\n",
       " Text(163.5, 0.5, 'PREDICTED VALUES '),\n",
       " Text(0.5, 1.0, 'CONFUSION MATRIX')]"
      ]
     },
     "execution_count": 18,
     "metadata": {},
     "output_type": "execute_result"
    },
    {
     "data": {
      "image/png": "[encoded data removed]",
      "text/plain": [
       "<Figure size 1476x1476 with 2 Axes>"
      ]
     },
     "metadata": {
      "needs_background": "light"
     },
     "output_type": "display_data"
    }
   ],
   "source": [
    "fig=plt.figure(figsize=(20.5,20.5))\n",
    "a=sn.heatmap(c1,annot=True,cmap='Blues')\n",
    "a.set(xlabel =\"ACTUAL VALUES\", ylabel = \"PREDICTED VALUES \", title ='CONFUSION MATRIX')"
   ]
  },
  {
   "cell_type": "code",
   "execution_count": 19,
   "id": "1dc31ab0",
   "metadata": {},
   "outputs": [
    {
     "name": "stdout",
     "output_type": "stream",
     "text": [
      "LABEL: 0 Accuracy: 0.9925 Precision: 0.952047952047952 Recall 0.9724489795918367 F1_Score 0.9621403331650681\n",
      "LABEL: 1 Accuracy: 0.9925 Precision: 0.9561101549053356 Recall 0.9788546255506608 F1_Score 0.9673487157161514\n",
      "LABEL: 2 Accuracy: 0.9811 Precision: 0.9244712990936556 Recall 0.8895348837209303 F1_Score 0.9066666666666667\n",
      "LABEL: 3 Accuracy: 0.9816 Precision: 0.9033203125 Recall 0.9158415841584159 F1_Score 0.9095378564405113\n",
      "LABEL: 4 Accuracy: 0.9873 Precision: 0.9393627954779034 Recall 0.9307535641547862 F1_Score 0.9350383631713556\n",
      "LABEL: 5 Accuracy: 0.9795 Precision: 0.8971098265895954 Recall 0.8699551569506726 F1_Score 0.8833238474672738\n",
      "LABEL: 6 Accuracy: 0.99 Precision: 0.9450207468879668 Recall 0.9509394572025052 F1_Score 0.9479708636836628\n",
      "LABEL: 7 Accuracy: 0.9848 Precision: 0.9302554027504911 Recall 0.9212062256809338 F1_Score 0.9257086999022482\n",
      "LABEL: 8 Accuracy: 0.9772 Precision: 0.8790650406504065 Recall 0.8880903490759754 F1_Score 0.8835546475995913\n",
      "LABEL: 9 Accuracy: 0.9827 Precision: 0.9114173228346457 Recall 0.9177403369672944 F1_Score 0.914567901234568\n"
     ]
    }
   ],
   "source": [
    "for i in range(c1.shape[0]):\n",
    "    TP=c1.iloc[i,i]\n",
    "    FP=c1.iloc[i,:].sum()-TP\n",
    "    FN=c1.iloc[:,i].sum()-TP\n",
    "    TN=c1.sum().sum()-TP-FP-FN\n",
    "    Accuracy=(TP+TN)/c1.sum().sum()\n",
    "    Precision=TP/(TP+FP)\n",
    "    Recall=TP/(TP+FN)\n",
    "    F1_Score=(2*Precision*Recall)/(Precision+Recall)\n",
    "    print(f\"LABEL:\",c1.index[i],f\"Accuracy:\",Accuracy,f\"Precision:\",Precision,f\"Recall\",Recall,f\"F1_Score\",F1_Score)"
   ]
  }
 ],
 "metadata": {
  "kernelspec": {
   "display_name": "Python 3 (ipykernel)",
   "language": "python",
   "name": "python3"
  },
  "language_info": {
   "codemirror_mode": {
    "name": "ipython",
    "version": 3
   },
   "file_extension": ".py",
   "mimetype": "text/x-python",
   "name": "python",
   "nbconvert_exporter": "python",
   "pygments_lexer": "ipython3",
   "version": "3.9.12"
  }
 },
 "nbformat": 4,
 "nbformat_minor": 5
}
